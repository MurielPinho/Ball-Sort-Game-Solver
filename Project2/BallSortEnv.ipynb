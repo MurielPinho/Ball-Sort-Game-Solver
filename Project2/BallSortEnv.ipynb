{
 "cells": [
  {
   "cell_type": "code",
   "execution_count": 80,
   "metadata": {},
   "outputs": [],
   "source": [
    "import gym\n",
    "from gym import spaces, error, utils\n",
    "from gym.utils import seeding"
   ]
  },
  {
   "cell_type": "code",
   "execution_count": 81,
   "metadata": {},
   "outputs": [],
   "source": [
    "N_TUBES = 3\n",
    "N_COLORS = 2\n",
    "H_TUBES = 3\n",
    "\n",
    "DEFAULT_BOARD = [\n",
    "    [2,1,2],\n",
    "    [2,1,1],\n",
    "    [0,0,0]\n",
    "]"
   ]
  },
  {
   "cell_type": "code",
   "execution_count": 85,
   "metadata": {},
   "outputs": [],
   "source": [
    "class BallSortEnv(gym.Env):\n",
    "    def __init__(self, alpha=0.02):\n",
    "        self.action_space = spaces.Tuple((spaces.Discrete(N_TUBES), spaces.Discrete(N_TUBES)))\n",
    "        self.observation_space = spaces.Box(low = 0, high = N_COLORS, shape = (N_TUBES, H_TUBES),dtype = np.uint8)\n",
    "        self.alpha = alpha\n",
    "        self.reset()\n",
    "        \n",
    "        print(self.observation_space)\n",
    "        \n",
    "   \n",
    "\n",
    "    def render(self, mode='human'):\n",
    "        print(self.board)\n",
    "        \n",
    "        \n",
    "    def step(self, action):\n",
    "        done = True\n",
    "        info = {}\n",
    "        reward = 1\n",
    "        \n",
    "        return self.board, reward , done ,info\n",
    "    \n",
    "    def reset(self):\n",
    "        self.board = DEFAULT_BOARD\n",
    "        return self.board\n",
    "    \n",
    "    def close(self):\n",
    "        pass\n",
    "        \n",
    "   \n",
    "    "
   ]
  },
  {
   "cell_type": "code",
   "execution_count": 86,
   "metadata": {},
   "outputs": [
    {
     "name": "stdout",
     "output_type": "stream",
     "text": [
      "Box(0, 2, (3, 3), uint8)\n",
      "[[2, 1, 2], [2, 1, 1], [0, 0, 0]]\n",
      "1\n",
      "[[2, 1, 2], [2, 1, 1], [0, 0, 0]]\n"
     ]
    }
   ],
   "source": [
    "f = BallSortEnv()\n",
    "f.render()\n",
    "state , reward , done, info = f.step((1,0))\n",
    "print(reward)\n",
    "f.render()"
   ]
  },
  {
   "cell_type": "code",
   "execution_count": null,
   "metadata": {},
   "outputs": [],
   "source": []
  },
  {
   "cell_type": "code",
   "execution_count": null,
   "metadata": {},
   "outputs": [],
   "source": []
  }
 ],
 "metadata": {
  "kernelspec": {
   "display_name": "Python 3",
   "language": "python",
   "name": "python3"
  },
  "language_info": {
   "codemirror_mode": {
    "name": "ipython",
    "version": 3
   },
   "file_extension": ".py",
   "mimetype": "text/x-python",
   "name": "python",
   "nbconvert_exporter": "python",
   "pygments_lexer": "ipython3",
   "version": "3.8.5"
  }
 },
 "nbformat": 4,
 "nbformat_minor": 4
}
