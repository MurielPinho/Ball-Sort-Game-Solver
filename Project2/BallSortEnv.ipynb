{
 "cells": [
  {
   "cell_type": "code",
   "execution_count": 143,
   "metadata": {},
   "outputs": [],
   "source": [
    "import gym\n",
    "from gym import spaces, error, utils\n",
    "from gym.utils import seeding\n",
    "import numpy as np"
   ]
  },
  {
   "cell_type": "code",
   "execution_count": 144,
   "metadata": {},
   "outputs": [],
   "source": [
    "N_TUBES = 3\n",
    "N_COLORS = 2\n",
    "H_TUBES = 3\n",
    "\n",
    "DEFAULT_BOARD = [\n",
    "    [2,2,1],\n",
    "    [1,2,1],\n",
    "    [0,0,0]\n",
    "]"
   ]
  },
  {
   "cell_type": "code",
   "execution_count": 148,
   "metadata": {},
   "outputs": [],
   "source": [
    "class BallSortEnv(gym.Env):\n",
    "    def __init__(self, alpha=0.02):\n",
    "        self.action_space = spaces.Tuple((spaces.Discrete(N_TUBES), spaces.Discrete(N_TUBES)))\n",
    "        self.observation_space = spaces.Box(low = 0, high = N_COLORS, shape = (N_TUBES, H_TUBES),dtype = np.uint8)\n",
    "        self.alpha = alpha\n",
    "        self.reset()\n",
    "        \n",
    "        print(self.observation_space)\n",
    "        \n",
    "   \n",
    "\n",
    "    def render(self, mode='human'):\n",
    "        print(self.board)\n",
    "        \n",
    "        \n",
    "    def step(self, action):\n",
    "        done = True\n",
    "        info = {}\n",
    "        reward = 1\n",
    "        if(self.checkGameOver()):\n",
    "            print(\"Gameover\")\n",
    "        if(self.checkValidMove(action)):\n",
    "            self.moveBall(action)\n",
    "\n",
    "        return self.board, reward , done ,info\n",
    "    \n",
    "    def reset(self):\n",
    "        self.board = DEFAULT_BOARD\n",
    "        return self.board\n",
    "    \n",
    "    def close(self):\n",
    "        pass\n",
    "    \n",
    "    def checkGameOver(self):\n",
    "        numColsCompleted = 0\n",
    "        for col in self.board:\n",
    "            if(col.count(col[0]) == len(col) and col[0] != 0):\n",
    "                numColsCompleted += 1\n",
    "        if (numColsCompleted == N_COLORS):\n",
    "            return True\n",
    "        else: return False\n",
    "    \n",
    "    def checkValidMove(self,move):\n",
    "        fromCol,toCol = move\n",
    "        fromIndex = -1\n",
    "        toIndex = -1\n",
    "        for number in range(len(self.board[fromCol])-1,-1,-1):\n",
    "            if(self.board[fromCol][number] != 0):\n",
    "                fromIndex = number\n",
    "                break\n",
    "                    \n",
    "        for number in range(0,len(self.board[toCol])):\n",
    "            if(self.board[toCol][number] == 0):\n",
    "                toIndex = number  \n",
    "                break\n",
    "                \n",
    "        print(fromIndex,toIndex)\n",
    "    \n",
    "        if(fromIndex == -1 or toIndex == -1):\n",
    "            return False\n",
    "        \n",
    "        if(toIndex != 0):\n",
    "            if(self.board[fromCol][fromIndex] != self.board[toCol][toIndex-1]):\n",
    "                return False\n",
    "        \n",
    "        \n",
    "        return True\n",
    "    \n",
    "    def moveBall(self,move):\n",
    "        fromCol,toCol = move\n",
    "        fromIndex = -1\n",
    "        toIndex = -1\n",
    "        for number in range(len(self.board[fromCol])-1,-1,-1):\n",
    "            if(self.board[fromCol][number] != 0):\n",
    "                fromIndex = number\n",
    "                break\n",
    "                    \n",
    "        for number in range(0,len(self.board[toCol])):\n",
    "            if(self.board[toCol][number] == 0):\n",
    "                toIndex = number  \n",
    "                break\n",
    "                \n",
    "        ball = self.board[fromCol][fromIndex]\n",
    "        self.board[fromCol][fromIndex] = 0\n",
    "        self.board[toCol][toIndex] = ball\n",
    "        \n",
    "   \n",
    "    "
   ]
  },
  {
   "cell_type": "code",
   "execution_count": 150,
   "metadata": {},
   "outputs": [
    {
     "name": "stdout",
     "output_type": "stream",
     "text": [
      "Box(0, 2, (3, 3), uint8)\n",
      "[[2, 2, 0], [1, 2, 1], [1, 0, 0]]\n",
      "1 1\n",
      "[[2, 2, 0], [1, 2, 1], [1, 0, 0]]\n"
     ]
    }
   ],
   "source": [
    "f = BallSortEnv()\n",
    "f.reset()\n",
    "f.render()\n",
    "state , reward , done, info = f.step((0,2))\n",
    "f.render()"
   ]
  },
  {
   "cell_type": "code",
   "execution_count": null,
   "metadata": {},
   "outputs": [],
   "source": []
  },
  {
   "cell_type": "code",
   "execution_count": null,
   "metadata": {},
   "outputs": [],
   "source": []
  },
  {
   "cell_type": "code",
   "execution_count": null,
   "metadata": {},
   "outputs": [],
   "source": []
  }
 ],
 "metadata": {
  "kernelspec": {
   "display_name": "Python 3",
   "language": "python",
   "name": "python3"
  },
  "language_info": {
   "codemirror_mode": {
    "name": "ipython",
    "version": 3
   },
   "file_extension": ".py",
   "mimetype": "text/x-python",
   "name": "python",
   "nbconvert_exporter": "python",
   "pygments_lexer": "ipython3",
   "version": "3.8.5"
  }
 },
 "nbformat": 4,
 "nbformat_minor": 4
}
